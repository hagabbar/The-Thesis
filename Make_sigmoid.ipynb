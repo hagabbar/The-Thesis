{
 "cells": [
  {
   "cell_type": "code",
   "execution_count": 4,
   "metadata": {},
   "outputs": [
    {
     "data": {
      "image/png": "[encoded data removed]",
      "text/plain": [
       "<Figure size 432x288 with 1 Axes>"
      ]
     },
     "metadata": {},
     "output_type": "display_data"
    }
   ],
   "source": [
    "# Import matplotlib, numpy and math \n",
    "import matplotlib.pyplot as plt \n",
    "import numpy as np \n",
    "import math \n",
    "  \n",
    "x = np.linspace(-10, 10, 100) \n",
    "z = 1/(1 + np.exp(-x)) \n",
    "  \n",
    "plt.plot(x, z) \n",
    "plt.tick_params(\n",
    "    axis=\"both\",\n",
    "    which=\"both\",\n",
    "    top=False,\n",
    "    bottom=False,\n",
    "    right=False,\n",
    "    left=False,\n",
    "    labelbottom=False,\n",
    "    labelleft=False\n",
    ")\n",
    "#plt.xlabel(\"x\") \n",
    "#plt.ylabel(\"Sigmoid(X)\") \n",
    "\n",
    "plt.savefig('figures/sigmoid_function.png', dpi=600)\n",
    "plt.show() "
   ]
  },
  {
   "cell_type": "code",
   "execution_count": null,
   "metadata": {},
   "outputs": [],
   "source": []
  }
 ],
 "metadata": {
  "kernelspec": {
   "display_name": "Python 3",
   "language": "python",
   "name": "python3"
  },
  "language_info": {
   "codemirror_mode": {
    "name": "ipython",
    "version": 3
   },
   "file_extension": ".py",
   "mimetype": "text/x-python",
   "name": "python",
   "nbconvert_exporter": "python",
   "pygments_lexer": "ipython3",
   "version": "3.6.10"
  }
 },
 "nbformat": 4,
 "nbformat_minor": 4
}
